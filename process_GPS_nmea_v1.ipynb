{
 "cells": [
  {
   "cell_type": "code",
   "execution_count": 1,
   "metadata": {
    "slideshow": {
     "slide_type": "-"
    }
   },
   "outputs": [
    {
     "name": "stdout",
     "output_type": "stream",
     "text": [
      "total GPS log files:  1\n"
     ]
    }
   ],
   "source": [
    "gps_log_folder = 'A:/Zhao/job/14023_Aurizon/WASW/nmea2shp/log/'\n",
    "output_folder = 'A:/Zhao/job/14023_Aurizon/WASW/nmea2shp/shp/'\n",
    "\n",
    "\n",
    "import os, time, pynmea2, pandas, shapely\n",
    "from geopandas import GeoDataFrame\n",
    "start = time.time()\n",
    "\n",
    "log_file_list = os.listdir(gps_log_folder)\n",
    "log_file_list = ['Bunbury2Picton.nmea']\n",
    "\n",
    "print('total GPS log files: ', len(log_file_list))\n",
    "\n",
    "labels = ['DateTime', 'Latitude', 'Longitude', 'Altitude']\n",
    "crs = {'init': 'epsg:4326'} # WGS84 Latitude/Longitude"
   ]
  },
  {
   "cell_type": "code",
   "execution_count": 8,
   "metadata": {},
   "outputs": [
    {
     "name": "stdout",
     "output_type": "stream",
     "text": [
      "Bunbury2Picton.nmea\n",
      "          DateTime   Latitude   Longitude  Altitude  \\\n",
      "0  00:44:43.590000 -33.320675  115.673905      -4.1   \n",
      "1  00:44:43.690000 -33.320675  115.673905      -4.1   \n",
      "2  00:44:43.890000 -33.320675  115.673906      -4.0   \n",
      "3  00:44:43.990000 -33.320674  115.673906      -4.0   \n",
      "4  00:44:44.090000 -33.320674  115.673906      -3.9   \n",
      "5  00:44:44.190000 -33.320674  115.673906      -3.9   \n",
      "6  00:44:44.290000 -33.320674  115.673906      -3.9   \n",
      "7  00:44:44.390000 -33.320674  115.673906      -3.9   \n",
      "8  00:44:44.590000 -33.320674  115.673906      -3.8   \n",
      "9  00:44:44.690000 -33.320674  115.673906      -3.8   \n",
      "\n",
      "                                       geometry  \n",
      "0  POINT (115.6739053666667 -33.32067488333333)  \n",
      "1       POINT (115.67390545 -33.32067478333333)  \n",
      "2  POINT (115.6739056166667 -33.32067456666667)  \n",
      "3        POINT (115.6739057 -33.32067446666667)  \n",
      "4        POINT (115.6739057833333 -33.32067435)  \n",
      "5  POINT (115.6739058666667 -33.32067423333334)  \n",
      "6       POINT (115.67390595 -33.32067411666667)  \n",
      "7          POINT (115.6739060333333 -33.320674)  \n",
      "8  POINT (115.6739062166667 -33.32067376666667)  \n",
      "9              POINT (115.6739063 -33.32067365)  \n",
      "Completed computing in:  609.35 s\n"
     ]
    }
   ],
   "source": [
    "for log_file in log_file_list:\n",
    "    record_list = []\n",
    "    print(log_file)\n",
    "    fin = open(gps_log_folder + log_file, encoding='utf8')\n",
    "    for line in fin:\n",
    "        \n",
    "        if line[:6]=='$GPGGA':\n",
    "            try:\n",
    "                #print(line)\n",
    "                msg = pynmea2.parse(line)\n",
    "                record_list.append((msg.timestamp,msg.latitude,msg.longitude,msg.altitude))\n",
    "                #record_list.append((str(msg.timestamp)[:8],msg.latitude,msg.longitude,msg.altitude)) #convert timestamp to str\n",
    "            except:\n",
    "                pass\n",
    "        \n",
    "        #print(msg.timestamp,msg.altitude,msg.altitude_units,msg.latitude,msg.longitude)\n",
    "\n",
    "    df = pandas.DataFrame(record_list,columns=labels)\n",
    "    df = df.drop_duplicates(subset='DateTime')\n",
    "    gdf = GeoDataFrame(df, crs=crs, geometry=[shapely.geometry.Point(xy) for xy in zip(df.Longitude, df.Latitude)])\n",
    "    print(gdf.head(10))\n",
    "    #print(gdf.dtypes)\n",
    "    #gdf.to_file(output_folder + log_file + '.shp')\n",
    "\n",
    "end = time.time()\n",
    "print('Completed computing in: ', round(end-start, 2),'s')"
   ]
  },
  {
   "cell_type": "code",
   "execution_count": 24,
   "metadata": {},
   "outputs": [
    {
     "data": {
      "text/plain": [
       "<matplotlib.figure.Figure at 0x26ed392c3c8>"
      ]
     },
     "metadata": {},
     "output_type": "display_data"
    },
    {
     "data": {
      "image/png": "[encoded data removed]",
      "text/plain": [
       "<matplotlib.figure.Figure at 0x26ed392c748>"
      ]
     },
     "metadata": {},
     "output_type": "display_data"
    }
   ],
   "source": [
    "import matplotlib.pylab as plt\n",
    "plt.figure(figsize=(500,300))\n",
    "mycmap='winter_r'\n",
    "\n",
    "gdf.plot(column='Altitude',cmap=mycmap)\n",
    "plt.show()"
   ]
  },
  {
   "cell_type": "code",
   "execution_count": null,
   "metadata": {},
   "outputs": [],
   "source": []
  }
 ],
 "metadata": {
  "kernelspec": {
   "display_name": "Python [default]",
   "language": "python",
   "name": "python3"
  },
  "language_info": {
   "codemirror_mode": {
    "name": "ipython",
    "version": 3
   },
   "file_extension": ".py",
   "mimetype": "text/x-python",
   "name": "python",
   "nbconvert_exporter": "python",
   "pygments_lexer": "ipython3",
   "version": "3.5.2"
  }
 },
 "nbformat": 4,
 "nbformat_minor": 2
}
