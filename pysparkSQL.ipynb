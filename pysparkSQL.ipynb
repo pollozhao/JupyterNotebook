{
 "cells": [
  {
   "cell_type": "code",
   "execution_count": 1,
   "metadata": {},
   "outputs": [],
   "source": [
    "import findspark\n",
    "findspark.init(\"A:/Zhao/bigdata/spark\")"
   ]
  },
  {
   "cell_type": "code",
   "execution_count": 2,
   "metadata": {},
   "outputs": [],
   "source": [
    "# Import SparkSession\n",
    "from pyspark.sql import SparkSession\n",
    "\n",
    "# Build the SparkSession\n",
    "spark = SparkSession.builder \\\n",
    "   .master(\"local\") \\\n",
    "   .appName(\"Spark test\") \\\n",
    "   .config(\"spark.driver.extraClassPath\",\"A:/Zhao/bigdata/jdbc/sqljdbc42.jar\") \\\n",
    "   .getOrCreate()\n",
    "   \n",
    "sc = spark.sparkContext"
   ]
  },
  {
   "cell_type": "markdown",
   "metadata": {},
   "source": [
    "**to connect MS SQL Server**\n",
    "\n",
    "need to download \"Microsoft JDBC Driver 6.0 for SQL Server\"\n",
    "and locate .jar file as above\n",
    "\n",
    "need to enable \"TCP/IP\" Protocol Name from \"SQL Server Network Configuration\""
   ]
  },
  {
   "cell_type": "code",
   "execution_count": 3,
   "metadata": {},
   "outputs": [],
   "source": [
    "jdbcDF = spark.read \\\n",
    "    .format(\"jdbc\") \\\n",
    "    .option(\"url\", \"jdbc:sqlserver://W18\\MSSQL2016;databaseName=EnergyMiser\") \\\n",
    "    .option(\"dbtable\", \"dbo.Drivers\") \\\n",
    "    .option(\"user\", \"hezhao2018\") \\\n",
    "    .option(\"password\", \"hezhao2018\") \\\n",
    "    .load()"
   ]
  },
  {
   "cell_type": "code",
   "execution_count": 4,
   "metadata": {},
   "outputs": [
    {
     "data": {
      "text/plain": [
       "[Row(DriversId=1, SitesId=1, DriverNo='1234', Surname='Test', GivenName='TPE', Visible=True, RfTagId=None),\n",
       " Row(DriversId=2, SitesId=1, DriverNo='9125', Surname='Aitken', GivenName='Andrew', Visible=True, RfTagId=None),\n",
       " Row(DriversId=3, SitesId=1, DriverNo='3201', Surname='Akers', GivenName='Kevin', Visible=True, RfTagId=None),\n",
       " Row(DriversId=4, SitesId=1, DriverNo='9077', Surname='Allison', GivenName='David', Visible=True, RfTagId=None),\n",
       " Row(DriversId=5, SitesId=1, DriverNo='9078', Surname='Almey', GivenName='Lynda', Visible=True, RfTagId=None),\n",
       " Row(DriversId=6, SitesId=1, DriverNo='3034', Surname='Anderson', GivenName='Colin', Visible=True, RfTagId=None),\n",
       " Row(DriversId=7, SitesId=1, DriverNo='9069', Surname='Anderson', GivenName='Gordon', Visible=True, RfTagId=None),\n",
       " Row(DriversId=8, SitesId=1, DriverNo='5017', Surname='Askew', GivenName='Neil', Visible=True, RfTagId=None),\n",
       " Row(DriversId=9, SitesId=1, DriverNo='3001', Surname='Atkinson', GivenName='Mark', Visible=True, RfTagId=None),\n",
       " Row(DriversId=10, SitesId=1, DriverNo='9119', Surname='Bahia', GivenName='Parmjit', Visible=True, RfTagId=None)]"
      ]
     },
     "execution_count": 4,
     "metadata": {},
     "output_type": "execute_result"
    }
   ],
   "source": [
    "jdbcDF.head(10)"
   ]
  },
  {
   "cell_type": "code",
   "execution_count": 5,
   "metadata": {},
   "outputs": [
    {
     "name": "stdout",
     "output_type": "stream",
     "text": [
      "root\n",
      " |-- DriversId: integer (nullable = true)\n",
      " |-- SitesId: integer (nullable = true)\n",
      " |-- DriverNo: string (nullable = true)\n",
      " |-- Surname: string (nullable = true)\n",
      " |-- GivenName: string (nullable = true)\n",
      " |-- Visible: boolean (nullable = true)\n",
      " |-- RfTagId: string (nullable = true)\n",
      "\n"
     ]
    }
   ],
   "source": [
    "jdbcDF.printSchema()"
   ]
  },
  {
   "cell_type": "code",
   "execution_count": 9,
   "metadata": {},
   "outputs": [],
   "source": [
    "jdbc_url = 'jdbc:sqlserver://W18\\MSSQL2016;databaseName=EnergyMiser'\n",
    "db_username = 'hezhao2018'\n",
    "db_password = 'hezhao2018'\n",
    "db_table = 'dbo.Journeys'\n",
    "\n",
    "jdbcDF2 = spark.read.jdbc(jdbc_url, db_table, properties={\"user\": db_username, \"password\": db_password})"
   ]
  },
  {
   "cell_type": "code",
   "execution_count": 10,
   "metadata": {},
   "outputs": [
    {
     "name": "stdout",
     "output_type": "stream",
     "text": [
      "root\n",
      " |-- JourneysId: integer (nullable = true)\n",
      " |-- SitesId: integer (nullable = true)\n",
      " |-- JourneyDate: timestamp (nullable = true)\n",
      " |-- RoutesId: integer (nullable = true)\n",
      " |-- UnitsId: integer (nullable = true)\n",
      " |-- DriversId: integer (nullable = true)\n",
      " |-- DepotsId: integer (nullable = true)\n",
      " |-- TimetablesId: integer (nullable = true)\n",
      " |-- Visible: boolean (nullable = true)\n",
      " |-- TotalEnergy: double (nullable = true)\n",
      " |-- Duration: integer (nullable = true)\n",
      " |-- UploadTime: timestamp (nullable = true)\n",
      "\n"
     ]
    }
   ],
   "source": [
    "jdbcDF2.printSchema()"
   ]
  },
  {
   "cell_type": "code",
   "execution_count": 12,
   "metadata": {},
   "outputs": [
    {
     "data": {
      "text/plain": [
       "[Row(JourneysId=1053, SitesId=1, JourneyDate=datetime.datetime(2017, 3, 23, 0, 0), RoutesId=358, UnitsId=1, DriversId=1, DepotsId=None, TimetablesId=6751, Visible=True, TotalEnergy=51619206.253, Duration=6, UploadTime=datetime.datetime(2017, 8, 17, 15, 13, 3, 287000)),\n",
       " Row(JourneysId=1056, SitesId=1, JourneyDate=datetime.datetime(2017, 3, 27, 0, 0), RoutesId=43, UnitsId=12, DriversId=1, DepotsId=None, TimetablesId=386, Visible=True, TotalEnergy=94257917.924, Duration=723, UploadTime=datetime.datetime(2017, 8, 17, 15, 13, 13, 333000)),\n",
       " Row(JourneysId=1057, SitesId=1, JourneyDate=datetime.datetime(2017, 3, 29, 0, 0), RoutesId=9, UnitsId=7, DriversId=1, DepotsId=None, TimetablesId=284, Visible=True, TotalEnergy=784433365.238, Duration=1214, UploadTime=datetime.datetime(2017, 8, 17, 15, 13, 16, 100000)),\n",
       " Row(JourneysId=1058, SitesId=1, JourneyDate=datetime.datetime(2017, 3, 29, 0, 0), RoutesId=9, UnitsId=9, DriversId=1, DepotsId=None, TimetablesId=284, Visible=True, TotalEnergy=827795206.659, Duration=3003, UploadTime=datetime.datetime(2017, 8, 17, 15, 13, 18, 710000)),\n",
       " Row(JourneysId=1060, SitesId=1, JourneyDate=datetime.datetime(2017, 3, 31, 0, 0), RoutesId=299, UnitsId=8, DriversId=1, DepotsId=None, TimetablesId=1063, Visible=True, TotalEnergy=4740318436.2, Duration=2778, UploadTime=datetime.datetime(2017, 8, 17, 15, 13, 26, 40000))]"
      ]
     },
     "execution_count": 12,
     "metadata": {},
     "output_type": "execute_result"
    }
   ],
   "source": [
    "filterDF = jdbcDF2.filter(jdbcDF2.TotalEnergy > 0)\n",
    "filterDF.head(5)"
   ]
  },
  {
   "cell_type": "code",
   "execution_count": null,
   "metadata": {},
   "outputs": [],
   "source": []
  }
 ],
 "metadata": {
  "kernelspec": {
   "display_name": "Python [default]",
   "language": "python",
   "name": "python3"
  },
  "language_info": {
   "codemirror_mode": {
    "name": "ipython",
    "version": 3
   },
   "file_extension": ".py",
   "mimetype": "text/x-python",
   "name": "python",
   "nbconvert_exporter": "python",
   "pygments_lexer": "ipython3",
   "version": "3.5.2"
  }
 },
 "nbformat": 4,
 "nbformat_minor": 2
}
