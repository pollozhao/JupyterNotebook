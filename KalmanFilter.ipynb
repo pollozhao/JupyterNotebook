{
 "cells": [
  {
   "cell_type": "code",
   "execution_count": 48,
   "metadata": {
    "slideshow": {
     "slide_type": "-"
    }
   },
   "outputs": [
    {
     "data": {
      "image/png": "[encoded data removed]",
      "text/plain": [
       "<Figure size 432x288 with 1 Axes>"
      ]
     },
     "metadata": {},
     "output_type": "display_data"
    }
   ],
   "source": [
    "from pykalman import KalmanFilter\n",
    "import numpy as np\n",
    "import matplotlib.pyplot as plt\n",
    "import time\n",
    "import pandas as pd\n",
    "\n",
    "measurements = np.asarray([(399,293),(403,299),(409,308),(416,315),(418,318),(420,323),(429,326),(423,328),(429,334),(431,337),(433,342),(434,352),(434,349),(433,350),(431,350),(430,349),(428,347),(427,345),(425,341),(429,338),(431,328),(410,313),(406,306),(402,299),(397,291),(391,294),(376,270),(372,272),(351,248),(336,244),(327,236),(307,220)])\n",
    "\n",
    "initial_state_mean = [measurements[0, 0],\n",
    "                      0,\n",
    "                      measurements[0, 1],\n",
    "                      0]\n",
    "\n",
    "transition_matrix = [[1, 1, 0, 0],\n",
    "                     [0, 1, 0, 0],\n",
    "                     [0, 0, 1, 1],\n",
    "                     [0, 0, 0, 1]]\n",
    "\n",
    "observation_matrix = [[1, 0, 0, 0],\n",
    "                      [0, 0, 1, 0]]\n",
    "\n",
    "kf1 = KalmanFilter(transition_matrices = transition_matrix,\n",
    "                  observation_matrices = observation_matrix,\n",
    "                  initial_state_mean = initial_state_mean)\n",
    "\n",
    "kf1 = kf1.em(measurements, n_iter=5)\n",
    "(smoothed_state_means, smoothed_state_covariances) = kf1.smooth(measurements)\n",
    "\n",
    "plt.figure(1)\n",
    "times = range(measurements.shape[0])\n",
    "plt.plot(times, measurements[:, 0], 'bo',\n",
    "         times, measurements[:, 1], 'ro',\n",
    "         times, smoothed_state_means[:, 0], 'b--',\n",
    "         times, smoothed_state_means[:, 2], 'r--',)\n",
    "plt.show()"
   ]
  },
  {
   "cell_type": "code",
   "execution_count": 49,
   "metadata": {},
   "outputs": [
    {
     "data": {
      "image/png": "[encoded data removed]",
      "text/plain": [
       "<Figure size 432x288 with 1 Axes>"
      ]
     },
     "metadata": {},
     "output_type": "display_data"
    }
   ],
   "source": [
    "kf2 = KalmanFilter(transition_matrices = transition_matrix,\n",
    "                  observation_matrices = observation_matrix,\n",
    "                  initial_state_mean = initial_state_mean,\n",
    "                  observation_covariance = 10*kf1.observation_covariance,\n",
    "                  em_vars=['transition_covariance', 'initial_state_covariance'])\n",
    "\n",
    "kf2 = kf2.em(measurements, n_iter=5)\n",
    "(smoothed_state_means, smoothed_state_covariances)  = kf2.smooth(measurements)\n",
    "\n",
    "plt.figure(2)\n",
    "times = range(measurements.shape[0])\n",
    "plt.plot(times, measurements[:, 0], 'bo',\n",
    "         times, measurements[:, 1], 'ro',\n",
    "         times, smoothed_state_means[:, 0], 'b--',\n",
    "         times, smoothed_state_means[:, 2], 'r--',)\n",
    "plt.show()"
   ]
  },
  {
   "cell_type": "code",
   "execution_count": 50,
   "metadata": {},
   "outputs": [
    {
     "data": {
      "text/html": [
       "<div>\n",
       "<style scoped>\n",
       "    .dataframe tbody tr th:only-of-type {\n",
       "        vertical-align: middle;\n",
       "    }\n",
       "\n",
       "    .dataframe tbody tr th {\n",
       "        vertical-align: top;\n",
       "    }\n",
       "\n",
       "    .dataframe thead th {\n",
       "        text-align: right;\n",
       "    }\n",
       "</style>\n",
       "<table border=\"1\" class=\"dataframe\">\n",
       "  <thead>\n",
       "    <tr style=\"text-align: right;\">\n",
       "      <th></th>\n",
       "      <th>ID</th>\n",
       "      <th>dist</th>\n",
       "      <th>lat</th>\n",
       "      <th>lon</th>\n",
       "      <th>ele</th>\n",
       "    </tr>\n",
       "  </thead>\n",
       "  <tbody>\n",
       "    <tr>\n",
       "      <th>0</th>\n",
       "      <td>663</td>\n",
       "      <td>0.000</td>\n",
       "      <td>40.671873</td>\n",
       "      <td>109.743808</td>\n",
       "      <td>1035.0</td>\n",
       "    </tr>\n",
       "    <tr>\n",
       "      <th>1</th>\n",
       "      <td>665</td>\n",
       "      <td>0.001</td>\n",
       "      <td>40.671881</td>\n",
       "      <td>109.743813</td>\n",
       "      <td>1035.0</td>\n",
       "    </tr>\n",
       "    <tr>\n",
       "      <th>2</th>\n",
       "      <td>666</td>\n",
       "      <td>0.002</td>\n",
       "      <td>40.671886</td>\n",
       "      <td>109.743815</td>\n",
       "      <td>1035.0</td>\n",
       "    </tr>\n",
       "    <tr>\n",
       "      <th>3</th>\n",
       "      <td>668</td>\n",
       "      <td>0.003</td>\n",
       "      <td>40.671899</td>\n",
       "      <td>109.743821</td>\n",
       "      <td>1035.0</td>\n",
       "    </tr>\n",
       "    <tr>\n",
       "      <th>4</th>\n",
       "      <td>669</td>\n",
       "      <td>0.004</td>\n",
       "      <td>40.671905</td>\n",
       "      <td>109.743824</td>\n",
       "      <td>1035.0</td>\n",
       "    </tr>\n",
       "    <tr>\n",
       "      <th>5</th>\n",
       "      <td>670</td>\n",
       "      <td>0.005</td>\n",
       "      <td>40.671913</td>\n",
       "      <td>109.743828</td>\n",
       "      <td>1035.0</td>\n",
       "    </tr>\n",
       "    <tr>\n",
       "      <th>6</th>\n",
       "      <td>671</td>\n",
       "      <td>0.006</td>\n",
       "      <td>40.671921</td>\n",
       "      <td>109.743832</td>\n",
       "      <td>1035.0</td>\n",
       "    </tr>\n",
       "    <tr>\n",
       "      <th>7</th>\n",
       "      <td>672</td>\n",
       "      <td>0.007</td>\n",
       "      <td>40.671929</td>\n",
       "      <td>109.743836</td>\n",
       "      <td>1035.0</td>\n",
       "    </tr>\n",
       "    <tr>\n",
       "      <th>8</th>\n",
       "      <td>673</td>\n",
       "      <td>0.008</td>\n",
       "      <td>40.671939</td>\n",
       "      <td>109.743841</td>\n",
       "      <td>1035.0</td>\n",
       "    </tr>\n",
       "    <tr>\n",
       "      <th>9</th>\n",
       "      <td>675</td>\n",
       "      <td>0.010</td>\n",
       "      <td>40.671948</td>\n",
       "      <td>109.743846</td>\n",
       "      <td>1035.0</td>\n",
       "    </tr>\n",
       "  </tbody>\n",
       "</table>\n",
       "</div>"
      ],
      "text/plain": [
       "    ID   dist        lat         lon     ele\n",
       "0  663  0.000  40.671873  109.743808  1035.0\n",
       "1  665  0.001  40.671881  109.743813  1035.0\n",
       "2  666  0.002  40.671886  109.743815  1035.0\n",
       "3  668  0.003  40.671899  109.743821  1035.0\n",
       "4  669  0.004  40.671905  109.743824  1035.0\n",
       "5  670  0.005  40.671913  109.743828  1035.0\n",
       "6  671  0.006  40.671921  109.743832  1035.0\n",
       "7  672  0.007  40.671929  109.743836  1035.0\n",
       "8  673  0.008  40.671939  109.743841  1035.0\n",
       "9  675  0.010  40.671948  109.743846  1035.0"
      ]
     },
     "execution_count": 50,
     "metadata": {},
     "output_type": "execute_result"
    }
   ],
   "source": [
    "bogps = pd.read_csv('A:/Zhao/job/18035_ShuoHuangRail/elevation_KalmanFilter/BO_gps.csv')\n",
    "bogps.head(10)"
   ]
  },
  {
   "cell_type": "code",
   "execution_count": 51,
   "metadata": {},
   "outputs": [
    {
     "data": {
      "text/plain": [
       "numpy.ndarray"
      ]
     },
     "execution_count": 51,
     "metadata": {},
     "output_type": "execute_result"
    }
   ],
   "source": [
    "type(measurements)"
   ]
  },
  {
   "cell_type": "code",
   "execution_count": 52,
   "metadata": {},
   "outputs": [
    {
     "data": {
      "text/plain": [
       "numpy.ndarray"
      ]
     },
     "execution_count": 52,
     "metadata": {},
     "output_type": "execute_result"
    }
   ],
   "source": [
    "bo = bogps[['dist','ele']].values\n",
    "type(bo)"
   ]
  },
  {
   "cell_type": "code",
   "execution_count": 53,
   "metadata": {},
   "outputs": [
    {
     "data": {
      "image/png": "[encoded data removed]",
      "text/plain": [
       "<Figure size 432x288 with 1 Axes>"
      ]
     },
     "metadata": {},
     "output_type": "display_data"
    }
   ],
   "source": [
    "initial_state_mean = [measurements[0, 0],\n",
    "                      0,\n",
    "                      measurements[0, 1],\n",
    "                      0]\n",
    "\n",
    "transition_matrix = [[1, 1, 0, 0],\n",
    "                     [0, 1, 0, 0],\n",
    "                     [0, 0, 1, 1],\n",
    "                     [0, 0, 0, 1]]\n",
    "\n",
    "observation_matrix = [[1, 0, 0, 0],\n",
    "                      [0, 0, 1, 0]]\n",
    "\n",
    "kf1 = KalmanFilter(transition_matrices = transition_matrix,\n",
    "                  observation_matrices = observation_matrix,\n",
    "                  initial_state_mean = initial_state_mean)\n",
    "\n",
    "kf1 = kf1.em(bo, n_iter=5)\n",
    "#(smoothed_state_means, smoothed_state_covariances) = kf1.smooth(bo)\n",
    "\n",
    "\n",
    "\n",
    "\n",
    "kf110 = KalmanFilter(transition_matrices = transition_matrix,\n",
    "                  observation_matrices = observation_matrix,\n",
    "                  initial_state_mean = initial_state_mean,\n",
    "                  observation_covariance = 10*kf10.observation_covariance,\n",
    "                  em_vars=['transition_covariance', 'initial_state_covariance'])\n",
    "\n",
    "kf110 = kf110.em(bo, n_iter=5)\n",
    "(smoothed_state_means, smoothed_state_covariances) = kf110.smooth(bo)\n",
    "\n",
    "plt.figure(1)\n",
    "plt.plot(bo[:, 0], bo[:, 1], 'b-',\n",
    "         bo[:, 0], smoothed_state_means[:, 2], 'r--',)\n",
    "plt.show()"
   ]
  },
  {
   "cell_type": "code",
   "execution_count": 54,
   "metadata": {},
   "outputs": [],
   "source": [
    "np.savetxt('A:/Zhao/job/18035_ShuoHuangRail/elevation_KalmanFilter/BO_gps_smooth.csv',smoothed_state_means,delimiter=\",\")"
   ]
  },
  {
   "cell_type": "code",
   "execution_count": null,
   "metadata": {},
   "outputs": [],
   "source": []
  }
 ],
 "metadata": {
  "kernelspec": {
   "display_name": "Python [default]",
   "language": "python",
   "name": "python3"
  },
  "language_info": {
   "codemirror_mode": {
    "name": "ipython",
    "version": 3
   },
   "file_extension": ".py",
   "mimetype": "text/x-python",
   "name": "python",
   "nbconvert_exporter": "python",
   "pygments_lexer": "ipython3",
   "version": "3.5.2"
  }
 },
 "nbformat": 4,
 "nbformat_minor": 2
}
